{
 "cells": [
  {
   "cell_type": "code",
   "execution_count": 5,
   "metadata": {
    "collapsed": false
   },
   "outputs": [
   ],
   "source": [
    "# Key for the monoalphabetic substitution cipher\n",
    "key = {\n",
    "    'a':'N',\n",
    "    'b':'O',\n",
    "    'c':'A',\n",
    "    'd':'T',\n",
    "    'e':'R',\n",
    "    'f':'B',\n",
    "    'g':'E',\n",
    "    'h':'C',\n",
    "    'i':'F',\n",
    "    'j':'U',\n",
    "    'k':'X',\n",
    "    'l':'D',\n",
    "    'm':'Q',\n",
    "    'n':'G',\n",
    "    'o':'Y',\n",
    "    'p':'L',\n",
    "    'q':'K',\n",
    "    'r':'H',\n",
    "    's':'V',\n",
    "    't':'I',\n",
    "    'u':'J',\n",
    "    'v':'M',\n",
    "    'w':'P',\n",
    "    'x':'Z',\n",
    "    'y':'S',\n",
    "    'z':'W',\n",
    "    'N':'a',\n",
    "    'O':'b',\n",
    "    'A':'c',\n",
    "    'T':'d',\n",
    "    'R':'e',\n",
    "    'B':'f',\n",
    "    'E':'g',\n",
    "    'C':'h',\n",
    "    'F':'i',\n",
    "    'U':'j',\n",
    "    'X':'k',\n",
    "    'D':'l',\n",
    "    'Q':'m',\n",
    "    'G':'n',\n",
    "    'Y':'o',\n",
    "    'L':'p',\n",
    "    'K':'q',\n",
    "    'H':'r',\n",
    "    'V':'s',\n",
    "    'I':'t',\n",
    "    'J':'u',\n",
    "    'M':'v',\n",
    "    'P':'w',\n",
    "    'Z':'x',\n",
    "    'S':'y',\n",
    "    'W':'z'\n",
    "}"
   ]
  },
  {
   "cell_type": "code",
   "execution_count": 6,
   "metadata": {
    "collapsed": false
   },
   "outputs": [
   ],
   "source": [
    "# Encrypt using Substitution Cipher\n",
    "def sub_encrypt(ptext):\n",
    "    ctext = \"\"\n",
    "    for ch in ptext:\n",
    "        if ch != \" \":\n",
    "            ctext += key[ch]\n",
    "    return ctext"
   ]
  },
  {
   "cell_type": "code",
   "execution_count": 7,
   "metadata": {
    "collapsed": false
   },
   "outputs": [
    {
     "data": {
      "text/plain": [
       "'ICFVQRVVNERFVRNVSIYRGAHSLI'"
      ]
     },
     "execution_count": 7,
     "metadata": {
     },
     "output_type": "execute_result"
    }
   ],
   "source": [
    "ptext = \"this message is easy to encrypt\"\n",
    "sub_encrypt(ptext)"
   ]
  },
  {
   "cell_type": "code",
   "execution_count": 8,
   "metadata": {
    "collapsed": false
   },
   "outputs": [
   ],
   "source": [
    "# Decrypt Substitution Cipher\n",
    "def sub_decrypt(ctext):\n",
    "    ptext = \"\"\n",
    "    for ch in ctext:\n",
    "        ptext += key[ch]\n",
    "    return ptext"
   ]
  },
  {
   "cell_type": "code",
   "execution_count": 9,
   "metadata": {
    "collapsed": false
   },
   "outputs": [
    {
     "data": {
      "text/plain": [
       "'thismessageiseasytoencrypt'"
      ]
     },
     "execution_count": 9,
     "metadata": {
     },
     "output_type": "execute_result"
    }
   ],
   "source": [
    "ctext = 'ICFVQRVVNERFVRNVSIYRGAHSLI'\n",
    "sub_decrypt(ctext)"
   ]
  },
  {
   "cell_type": "code",
   "execution_count": 10,
   "metadata": {
    "collapsed": false
   },
   "outputs": [
   ],
   "source": [
    "# Cryptanalysis \n",
    "# Chosen-Plaintext Attack\n",
    "def chosenPlaintext(ptext, ctext):\n",
    "    key_dict = {}\n",
    "    for i in range(len(ptext)):\n",
    "        key_dict[ptext[i]] = ctext[i]\n",
    "    return key_dict"
   ]
  },
  {
   "cell_type": "code",
   "execution_count": 12,
   "metadata": {
    "collapsed": false
   },
   "outputs": [
    {
     "data": {
      "text/plain": [
       "{'a': 'N',\n",
       " 'b': 'O',\n",
       " 'c': 'A',\n",
       " 'd': 'T',\n",
       " 'e': 'R',\n",
       " 'f': 'B',\n",
       " 'g': 'E',\n",
       " 'h': 'C',\n",
       " 'i': 'F',\n",
       " 'j': 'U',\n",
       " 'k': 'X',\n",
       " 'l': 'D',\n",
       " 'm': 'Q',\n",
       " 'n': 'G',\n",
       " 'o': 'Y',\n",
       " 'p': 'L',\n",
       " 'q': 'K',\n",
       " 'r': 'H',\n",
       " 's': 'V',\n",
       " 't': 'I',\n",
       " 'u': 'J',\n",
       " 'v': 'M',\n",
       " 'w': 'P',\n",
       " 'x': 'Z',\n",
       " 'y': 'S',\n",
       " 'z': 'W'}"
      ]
     },
     "execution_count": 12,
     "metadata": {
     },
     "output_type": "execute_result"
    }
   ],
   "source": [
    "ptext = 'abcdefghijklmnopqrstuvwxyz'\n",
    "chosenPlaintext(ptext, sub_encrypt(ptext))"
   ]
  }
 ],
 "metadata": {
  "kernelspec": {
   "argv": [
    "sage-10.1",
    "--python",
    "-m",
    "sage.repl.ipython_kernel",
    "--matplotlib=inline",
    "-f",
    "{connection_file}"
   ],
   "display_name": "SageMath 10.1",
   "env": {
   },
   "language": "sagemath",
   "metadata": {
    "cocalc": {
     "description": "Open-source mathematical software system",
     "priority": 10,
     "url": "https://www.sagemath.org/"
    }
   },
   "name": "sage-10.1",
   "resource_dir": "/ext/jupyter/kernels/sage-10.1"
  },
  "language_info": {
   "codemirror_mode": {
    "name": "ipython",
    "version": 3
   },
   "file_extension": ".py",
   "mimetype": "text/x-python",
   "name": "python",
   "nbconvert_exporter": "python",
   "pygments_lexer": "ipython3",
   "version": "3.11.1"
  }
 },
 "nbformat": 4,
 "nbformat_minor": 4
}