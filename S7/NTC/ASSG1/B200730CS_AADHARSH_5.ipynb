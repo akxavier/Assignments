{
 "cells": [
  {
   "cell_type": "code",
   "execution_count": 1,
   "metadata": {
    "collapsed": false
   },
   "outputs": [
   ],
   "source": [
    "import math"
   ]
  },
  {
   "cell_type": "code",
   "execution_count": 12,
   "metadata": {
    "collapsed": false
   },
   "outputs": [
   ],
   "source": [
    "# Encrypt using Rail Fence Cipher\n",
    "def railfence_encrypt(ptext):\n",
    "    ctext = \"\"\n",
    "    for i in range(0, len(ptext), 2):\n",
    "        ctext += ptext[i]\n",
    "    for i in range(1, len(ptext), 2):\n",
    "        ctext += ptext[i]\n",
    "    return ctext.upper()"
   ]
  },
  {
   "cell_type": "code",
   "execution_count": 13,
   "metadata": {
    "collapsed": false
   },
   "outputs": [
    {
     "data": {
      "text/plain": [
       "'MEMATEAKETETHPR'"
      ]
     },
     "execution_count": 13,
     "metadata": {
     },
     "output_type": "execute_result"
    }
   ],
   "source": [
    "ptext = 'meetmeatthepark'\n",
    "railfence_encrypt(ptext)"
   ]
  },
  {
   "cell_type": "code",
   "execution_count": 14,
   "metadata": {
    "collapsed": false
   },
   "outputs": [
   ],
   "source": [
    "# Decrypt Rail Fence Cipher\n",
    "def railfence_decrypt(ctext):\n",
    "    ptext = \"\"\n",
    "    mid = math.ceil(len(ctext) / 2)\n",
    "    half2 = mid\n",
    "    half1 = 0\n",
    "    while half1 < mid:\n",
    "        if half1 < mid:\n",
    "            ptext += ctext[half1]\n",
    "            half1 += 1\n",
    "        if half2 < len(ctext):\n",
    "            ptext += ctext[half2]\n",
    "            half2 += 1\n",
    "    return ptext.lower()"
   ]
  },
  {
   "cell_type": "code",
   "execution_count": 15,
   "metadata": {
    "collapsed": false
   },
   "outputs": [
    {
     "data": {
      "text/plain": [
       "'meetmeatthepark'"
      ]
     },
     "execution_count": 15,
     "metadata": {
     },
     "output_type": "execute_result"
    }
   ],
   "source": [
    "ctext = 'memateaketethpr'\n",
    "railfence_decrypt(ctext)"
   ]
  },
  {
   "cell_type": "code",
   "execution_count": 16,
   "metadata": {
    "collapsed": false
   },
   "outputs": [
   ],
   "source": [
    "# Encrypt using Transposition cipher\n",
    "def trans_encrypt(ptext):\n",
    "    mat = []\n",
    "    i = 0\n",
    "    while i < len(ptext):\n",
    "        strlen = len(ptext)\n",
    "        temp = []\n",
    "        for _ in range(4):\n",
    "            if i < len(ptext):\n",
    "                temp.append(ptext[i])\n",
    "                i += 1\n",
    "            else:\n",
    "                temp.append('Z')\n",
    "        mat.append(temp)\n",
    "    ctext = \"\"\n",
    "    for j in range(4):\n",
    "        for i in range(len(mat)):\n",
    "            ctext += mat[i][j]\n",
    "    return ctext[:strlen].upper()"
   ]
  },
  {
   "cell_type": "code",
   "execution_count": 17,
   "metadata": {
    "collapsed": false
   },
   "outputs": [
    {
     "data": {
      "text/plain": [
       "'MMTAEEHREAEKTTP'"
      ]
     },
     "execution_count": 17,
     "metadata": {
     },
     "output_type": "execute_result"
    }
   ],
   "source": [
    "trans_encrypt(ptext)"
   ]
  },
  {
   "cell_type": "code",
   "execution_count": 18,
   "metadata": {
    "collapsed": false
   },
   "outputs": [
   ],
   "source": [
    "# Decrypt using Transposition cipher\n",
    "def trans_decrypt(ctext):\n",
    "    mat = []\n",
    "    i = 0\n",
    "    while i < len(ctext):\n",
    "        strlen = len(ctext)\n",
    "        temp = []\n",
    "        for _ in range(4):\n",
    "            if i < len(ctext):\n",
    "                temp.append(ctext[i])\n",
    "                i += 1\n",
    "            else:\n",
    "                temp.append('Z')\n",
    "        mat.append(temp)\n",
    "    ptext = \"\"\n",
    "    for j in range(4):\n",
    "        for i in range(len(mat)):\n",
    "            ptext += mat[i][j]\n",
    "    return ptext[:strlen].lower()"
   ]
  },
  {
   "cell_type": "code",
   "execution_count": 19,
   "metadata": {
    "collapsed": false
   },
   "outputs": [
    {
     "data": {
      "text/plain": [
       "'meetmeatthepark'"
      ]
     },
     "execution_count": 19,
     "metadata": {
     },
     "output_type": "execute_result"
    }
   ],
   "source": [
    "ctext1 = 'MMTAEEHREAEKTTP'\n",
    "trans_decrypt(ctext1)"
   ]
  }
 ],
 "metadata": {
  "kernelspec": {
   "argv": [
    "sage-10.1",
    "--python",
    "-m",
    "sage.repl.ipython_kernel",
    "--matplotlib=inline",
    "-f",
    "{connection_file}"
   ],
   "display_name": "SageMath 10.1",
   "env": {
   },
   "language": "sagemath",
   "metadata": {
    "cocalc": {
     "description": "Open-source mathematical software system",
     "priority": 10,
     "url": "https://www.sagemath.org/"
    }
   },
   "name": "sage-10.1",
   "resource_dir": "/ext/jupyter/kernels/sage-10.1"
  },
  "language_info": {
   "codemirror_mode": {
    "name": "ipython",
    "version": 3
   },
   "file_extension": ".py",
   "mimetype": "text/x-python",
   "name": "python",
   "nbconvert_exporter": "python",
   "pygments_lexer": "ipython3",
   "version": "3.11.1"
  }
 },
 "nbformat": 4,
 "nbformat_minor": 4
}