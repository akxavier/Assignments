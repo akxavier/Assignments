{
 "cells": [
  {
   "cell_type": "code",
   "execution_count": 2,
   "metadata": {
    "collapsed": false
   },
   "outputs": [
   ],
   "source": [
    "import numpy as np\n",
    "import math\n",
    "from sympy import Matrix"
   ]
  },
  {
   "cell_type": "code",
   "execution_count": 3,
   "metadata": {
    "collapsed": false
   },
   "outputs": [
   ],
   "source": [
    "key = 'PWNICZJVG'"
   ]
  },
  {
   "cell_type": "code",
   "execution_count": 4,
   "metadata": {
    "collapsed": false
   },
   "outputs": [
   ],
   "source": [
    "# Encrypt using Hill Cipher\n",
    "def hill_encrypt(ptext) :        \n",
    "        textLen = len(ptext) \n",
    "        x = len(key)\n",
    "        n = int(math.sqrt(x))\n",
    "        rows = math.ceil(textLen/n)\n",
    "\n",
    "        # Create Key Matrix\n",
    "        keyList = [ord(ch) - ord('A') for ch in key] \n",
    "        keyMat = np.array(keyList)\n",
    "        keyMat.resize(n,n)\n",
    "\n",
    "        # Create Plaintext Matrix\n",
    "        plainList = [ord(ch) - ord('a') for ch in ptext]\n",
    "        plainMat = np.array(plainList)\n",
    "        plainMat.resize(rows, n)\n",
    "        \n",
    "        cipherMat = np.matmul(plainMat, keyMat) % 26\n",
    "        cipherList = cipherMat.flatten()\n",
    "\n",
    "        ctext = ''.join([chr(ord('A') + i) for i in cipherList])\n",
    "        \n",
    "        return ctext[:textLen]"
   ]
  },
  {
   "cell_type": "code",
   "execution_count": 10,
   "metadata": {
    "collapsed": false
   },
   "outputs": [
    {
     "data": {
      "text/plain": [
       "'XCCCKWNWEBOCFDXZNN'"
      ]
     },
     "execution_count": 10,
     "metadata": {
     },
     "output_type": "execute_result"
    }
   ],
   "source": [
    "ptext = 'thisistheplaintext'\n",
    "hill_encrypt(ptext)"
   ]
  },
  {
   "cell_type": "code",
   "execution_count": 6,
   "metadata": {
    "collapsed": false
   },
   "outputs": [
   ],
   "source": [
    "# Decrypt using Hill Cipher\n",
    "def hill_decrypt(ctext) :\n",
    "        textLen = len(ctext) \n",
    "        x = len(key)\n",
    "        n = int(math.sqrt(x))\n",
    "        rows = math.ceil(textLen/n)\n",
    "\n",
    "        # Create Key Matrix\n",
    "        keyList = [ord(ch) - ord('A') for ch in key] \n",
    "        keyMat = np.array(keyList)\n",
    "        keyMat.resize(n,n)\n",
    "        \n",
    "        keyMatInv = np.array(Matrix(keyMat).inv_mod(26))\n",
    "\n",
    "        # Create Ciphertext Matrix\n",
    "        cipherList = [ord(ch) - ord('A') for ch in ctext]\n",
    "        cipherMat = np.array(cipherList)\n",
    "        cipherMat.resize((rows,n))\n",
    "\n",
    "        plainMat = np.matmul(cipherMat,keyMatInv) % 26\n",
    "        plainList = plainMat.flatten()\n",
    "\n",
    "        ptext = ''.join([chr(ord('a') + i) for i in plainList])\n",
    "        \n",
    "        return ptext[:textLen]"
   ]
  },
  {
   "cell_type": "code",
   "execution_count": 7,
   "metadata": {
    "collapsed": false
   },
   "outputs": [
    {
     "data": {
      "text/plain": [
       "'thisistheplaintext'"
      ]
     },
     "execution_count": 7,
     "metadata": {
     },
     "output_type": "execute_result"
    }
   ],
   "source": [
    "ctext = 'XCCCKWNWEBOCFDXZNN'\n",
    "hill_decrypt(ctext)"
   ]
  }
 ],
 "metadata": {
  "kernelspec": {
   "argv": [
    "sage-10.1",
    "--python",
    "-m",
    "sage.repl.ipython_kernel",
    "--matplotlib=inline",
    "-f",
    "{connection_file}"
   ],
   "display_name": "SageMath 10.1",
   "env": {
   },
   "language": "sagemath",
   "metadata": {
    "cocalc": {
     "description": "Open-source mathematical software system",
     "priority": 10,
     "url": "https://www.sagemath.org/"
    }
   },
   "name": "sage-10.1",
   "resource_dir": "/ext/jupyter/kernels/sage-10.1"
  },
  "language_info": {
   "codemirror_mode": {
    "name": "ipython",
    "version": 3
   },
   "file_extension": ".py",
   "mimetype": "text/x-python",
   "name": "python",
   "nbconvert_exporter": "python",
   "pygments_lexer": "ipython3",
   "version": "3.11.1"
  }
 },
 "nbformat": 4,
 "nbformat_minor": 4
}