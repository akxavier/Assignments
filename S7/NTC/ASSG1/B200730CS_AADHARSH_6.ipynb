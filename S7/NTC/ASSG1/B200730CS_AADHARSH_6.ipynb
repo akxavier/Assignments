{
 "cells": [
  {
   "cell_type": "code",
   "execution_count": 2,
   "metadata": {
    "collapsed": false
   },
   "outputs": [
   ],
   "source": [
    "key = 'PASCAL'"
   ]
  },
  {
   "cell_type": "code",
   "execution_count": 3,
   "metadata": {
    "collapsed": false
   },
   "outputs": [
   ],
   "source": [
    "def vigenere_encrypt(ptext):\n",
    "    keyLen = len(key)\n",
    "    strLen = len(ptext)\n",
    "    ctext = \"\"\n",
    "    for i in range(strLen):\n",
    "        ch = ptext[i]\n",
    "        if ch != \" \":\n",
    "            k_ch = key[i % keyLen]\n",
    "            ctext += chr((ord(ch) - ord('a') + ord(k_ch) - ord('A')) % 26 + ord('A'))\n",
    "    return ctext"
   ]
  },
  {
   "cell_type": "code",
   "execution_count": 5,
   "metadata": {
    "collapsed": false
   },
   "outputs": [
    {
     "data": {
      "text/plain": [
       "'HHWKSWXSLGNTCG'"
      ]
     },
     "execution_count": 5,
     "metadata": {
     },
     "output_type": "execute_result"
    }
   ],
   "source": [
    "ptext = 'sheislistening'\n",
    "vigenere_encrypt(ptext)"
   ]
  },
  {
   "cell_type": "code",
   "execution_count": 10,
   "metadata": {
    "collapsed": false
   },
   "outputs": [
   ],
   "source": [
    "def vigenere_decrypt(ctext):\n",
    "    keyLen = len(key)\n",
    "    strLen = len(ctext)\n",
    "    ptext = \"\"\n",
    "    for i in range(strLen):\n",
    "        ch = ctext[i]\n",
    "        k_ch = key[i % keyLen]\n",
    "        ptext += chr((ord(ch) - ord('A') - (ord(k_ch) - ord('A')) ) % 26 + ord('a'))\n",
    "    return ptext"
   ]
  },
  {
   "cell_type": "code",
   "execution_count": 11,
   "metadata": {
    "collapsed": false
   },
   "outputs": [
    {
     "data": {
      "text/plain": [
       "'sheislistening'"
      ]
     },
     "execution_count": 11,
     "metadata": {
     },
     "output_type": "execute_result"
    }
   ],
   "source": [
    "ctext = 'HHWKSWXSLGNTCG'\n",
    "vigenere_decrypt(ctext)"
   ]
  },
  {
   "cell_type": "code",
   "execution_count": 25,
   "metadata": {
    "collapsed": false
   },
   "outputs": [
   ],
   "source": [
    "# Cryptanalysis of Vigenere Cipher\n",
    "# Known Plaintext Attack\n",
    "vigTable = {}\n",
    "for i in range(26) :\n",
    "    vigTable[i] = {}\n",
    "    for j in range(26) :\n",
    "        vigTable[i][j] = chr((i + j) % 26 + ord('A'))\n",
    "\n",
    "def vigKey(pChar,cChar) :\n",
    "    for i in range(26):\n",
    "        if vigTable[ord(pChar) - ord('a')][i] == cChar :\n",
    "            return chr(ord('A') + i)\n",
    "        \n",
    "def knownVig(ctext,ptext) :\n",
    "    key = \"\"\n",
    "    for i in range(len(ptext)) :\n",
    "        key += vigKey(ptext[i],ctext[i])\n",
    "    return key"
   ]
  },
  {
   "cell_type": "code",
   "execution_count": 27,
   "metadata": {
    "collapsed": false
   },
   "outputs": [
    {
     "data": {
      "text/plain": [
       "'PASCALPASCALPA'"
      ]
     },
     "execution_count": 27,
     "metadata": {
     },
     "output_type": "execute_result"
    }
   ],
   "source": [
    "knownVig(ctext, ptext)\n",
    "#print(vigTable)"
   ]
  }
 ],
 "metadata": {
  "kernelspec": {
   "argv": [
    "sage-10.1",
    "--python",
    "-m",
    "sage.repl.ipython_kernel",
    "--matplotlib=inline",
    "-f",
    "{connection_file}"
   ],
   "display_name": "SageMath 10.1",
   "env": {
   },
   "language": "sagemath",
   "metadata": {
    "cocalc": {
     "description": "Open-source mathematical software system",
     "priority": 10,
     "url": "https://www.sagemath.org/"
    }
   },
   "name": "sage-10.1",
   "resource_dir": "/ext/jupyter/kernels/sage-10.1"
  },
  "language_info": {
   "codemirror_mode": {
    "name": "ipython",
    "version": 3
   },
   "file_extension": ".py",
   "mimetype": "text/x-python",
   "name": "python",
   "nbconvert_exporter": "python",
   "pygments_lexer": "ipython3",
   "version": "3.11.1"
  }
 },
 "nbformat": 4,
 "nbformat_minor": 4
}