{
 "cells": [
  {
   "cell_type": "code",
   "execution_count": 7,
   "metadata": {
    "collapsed": false
   },
   "outputs": [
   ],
   "source": [
    "# Encrypt plaintext\n",
    "def shift_encrypt(ptext, k):\n",
    "    ctext = \"\"\n",
    "    for ch in ptext:\n",
    "        if ch == \" \":\n",
    "            ctext += ch\n",
    "        else:\n",
    "            ctext += chr((ord(ch) - ord('a') + k) % 26 + ord('A'))\n",
    "    return ctext"
   ]
  },
  {
   "cell_type": "code",
   "execution_count": 8,
   "metadata": {
    "collapsed": false
   },
   "outputs": [
    {
     "data": {
      "text/plain": [
       "'WTAAD'"
      ]
     },
     "execution_count": 8,
     "metadata": {
     },
     "output_type": "execute_result"
    }
   ],
   "source": [
    "ptext = 'hello'\n",
    "k = 15\n",
    "shift_encrypt(ptext, k)"
   ]
  },
  {
   "cell_type": "code",
   "execution_count": 9,
   "metadata": {
    "collapsed": false
   },
   "outputs": [
   ],
   "source": [
    "# Decrypt ciphertext\n",
    "def shift_decrypt(ctext, k):\n",
    "    ptext = \"\"\n",
    "    for ch in ctext:\n",
    "        if ch == \" \":\n",
    "            ptext += ch\n",
    "        else:\n",
    "            ptext += chr((ord(ch) - ord('A') - k) % 26 + ord('a'))\n",
    "    return ptext"
   ]
  },
  {
   "cell_type": "code",
   "execution_count": 10,
   "metadata": {
    "collapsed": false
   },
   "outputs": [
    {
     "data": {
      "text/plain": [
       "'hello'"
      ]
     },
     "execution_count": 10,
     "metadata": {
     },
     "output_type": "execute_result"
    }
   ],
   "source": [
    "ctext = 'WTAAD'\n",
    "k = 15\n",
    "shift_decrypt(ctext, k)"
   ]
  },
  {
   "cell_type": "code",
   "execution_count": 11,
   "metadata": {
    "collapsed": false
   },
   "outputs": [
    {
     "name": "stdout",
     "output_type": "stream",
     "text": [
      "k: 1 Decrypted text: vszzc\n",
      "k: 2 Decrypted text: uryyb\n",
      "k: 3 Decrypted text: tqxxa\n",
      "k: 4 Decrypted text: spwwz\n",
      "k: 5 Decrypted text: rovvy\n",
      "k: 6 Decrypted text: qnuux\n",
      "k: 7 Decrypted text: pmttw\n",
      "k: 8 Decrypted text: olssv\n",
      "k: 9 Decrypted text: nkrru\n",
      "k: 10 Decrypted text: mjqqt\n",
      "k: 11 Decrypted text: lipps\n",
      "k: 12 Decrypted text: khoor\n",
      "k: 13 Decrypted text: jgnnq\n",
      "k: 14 Decrypted text: ifmmp\n",
      "k: 15 Decrypted text: hello\n",
      "k: 16 Decrypted text: gdkkn\n",
      "k: 17 Decrypted text: fcjjm\n",
      "k: 18 Decrypted text: ebiil\n",
      "k: 19 Decrypted text: dahhk\n",
      "k: 20 Decrypted text: czggj\n",
      "k: 21 Decrypted text: byffi\n",
      "k: 22 Decrypted text: axeeh\n",
      "k: 23 Decrypted text: zwddg\n",
      "k: 24 Decrypted text: yvccf\n",
      "k: 25 Decrypted text: xubbe\n"
     ]
    }
   ],
   "source": [
    "# Cryptanalysis of Shift Cipher\n",
    "ctext = \"WTAAD\"\n",
    "for i in range(1, 26):\n",
    "    print(\"k:\", i, \"Decrypted text:\", shift_decrypt(ctext, i))"
   ]
  }
 ],
 "metadata": {
  "kernelspec": {
   "argv": [
    "sage-10.1",
    "--python",
    "-m",
    "sage.repl.ipython_kernel",
    "--matplotlib=inline",
    "-f",
    "{connection_file}"
   ],
   "display_name": "SageMath 10.1",
   "env": {
   },
   "language": "sagemath",
   "metadata": {
    "cocalc": {
     "description": "Open-source mathematical software system",
     "priority": 10,
     "url": "https://www.sagemath.org/"
    }
   },
   "name": "sage-10.1",
   "resource_dir": "/ext/jupyter/kernels/sage-10.1"
  },
  "language_info": {
   "codemirror_mode": {
    "name": "ipython",
    "version": 3
   },
   "file_extension": ".py",
   "mimetype": "text/x-python",
   "name": "python",
   "nbconvert_exporter": "python",
   "pygments_lexer": "ipython3",
   "version": "3.11.1"
  }
 },
 "nbformat": 4,
 "nbformat_minor": 4
}